{
  "nbformat": 4,
  "nbformat_minor": 0,
  "metadata": {
    "colab": {
      "provenance": [],
      "authorship_tag": "ABX9TyPoUXDZ7eYsBHuhtCMZJy/G",
      "include_colab_link": true
    },
    "kernelspec": {
      "name": "python3",
      "display_name": "Python 3"
    },
    "language_info": {
      "name": "python"
    }
  },
  "cells": [
    {
      "cell_type": "markdown",
      "metadata": {
        "id": "view-in-github",
        "colab_type": "text"
      },
      "source": [
        "<a href=\"https://colab.research.google.com/github/NeerajaJayanthy/NLP-Regular-Expressions-/blob/main/regular_expression.ipynb\" target=\"_parent\"><img src=\"https://colab.research.google.com/assets/colab-badge.svg\" alt=\"Open In Colab\"/></a>"
      ]
    },
    {
      "cell_type": "code",
      "execution_count": 1,
      "metadata": {
        "colab": {
          "base_uri": "https://localhost:8080/"
        },
        "id": "VjATdQKRqMSp",
        "outputId": "848c6473-8f3e-4aba-959a-28eb589e167d"
      },
      "outputs": [
        {
          "output_type": "stream",
          "name": "stdout",
          "text": [
            "['235656578', '42', '325', '4', '4']\n"
          ]
        }
      ],
      "source": [
        "import re\n",
        "text=\"adsrfsdtgdfgdfgdgegte235656578fsdgdgggsdg42s325g4s4gtsg\"\n",
        "digits = re.findall(r'\\d+', text)\n",
        "print(digits)"
      ]
    },
    {
      "cell_type": "code",
      "source": [
        "import re\n",
        "text=input(\"enter a text\")\n",
        "digits= re.findall(r'\\d+',text)\n",
        "\n",
        "if digits:\n",
        "    print(digits)\n",
        "else:\n",
        "   print(\"not found\")"
      ],
      "metadata": {
        "colab": {
          "base_uri": "https://localhost:8080/"
        },
        "id": "bT_301T4qTnL",
        "outputId": "5fd3e238-f3cc-423e-d41a-3bc53c2c763d"
      },
      "execution_count": 2,
      "outputs": [
        {
          "output_type": "stream",
          "name": "stdout",
          "text": [
            "enter a texthello123458jhfh\n",
            "['123458']\n"
          ]
        }
      ]
    },
    {
      "cell_type": "code",
      "source": [
        "import re\n",
        "\n",
        "text = input(\"Enter a text: \")\n",
        "match = re.search(r'^\\d+', text)\n",
        "if match:  # Check if a match was found\n",
        "    print(match.group())  # Print the matched digits\n",
        "else:\n",
        "    print(\"Not found\")"
      ],
      "metadata": {
        "colab": {
          "base_uri": "https://localhost:8080/"
        },
        "id": "frRsV_XfqV7M",
        "outputId": "7a6c1bc1-98b9-49d0-98ed-6cb8e5e2e954"
      },
      "execution_count": 3,
      "outputs": [
        {
          "output_type": "stream",
          "name": "stdout",
          "text": [
            "Enter a text: f5g7h9j9onp0i\n",
            "Not found\n"
          ]
        }
      ]
    },
    {
      "cell_type": "code",
      "source": [
        "import re\n",
        "text=\"the best cricketer is sachin\"\n",
        "x=re.search(\"^the.*sachin$\",text)\n",
        "print(x)\n",
        "if(x):\n",
        "  print(\"yes\")\n",
        "else:\n",
        "  print(\"no\")"
      ],
      "metadata": {
        "colab": {
          "base_uri": "https://localhost:8080/"
        },
        "id": "BjJ1VrmOqYJX",
        "outputId": "3d01c2a4-d175-4ffb-f353-72cd37c6212c"
      },
      "execution_count": 4,
      "outputs": [
        {
          "output_type": "stream",
          "name": "stdout",
          "text": [
            "<re.Match object; span=(0, 28), match='the best cricketer is sachin'>\n",
            "yes\n"
          ]
        }
      ]
    }
  ]
}