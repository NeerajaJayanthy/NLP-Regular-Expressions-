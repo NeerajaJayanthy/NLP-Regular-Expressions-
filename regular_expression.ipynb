{
  "nbformat": 4,
  "nbformat_minor": 0,
  "metadata": {
    "colab": {
      "provenance": [],
      "authorship_tag": "ABX9TyM4RL6IOh13Vgdol/M70DBa",
      "include_colab_link": true
    },
    "kernelspec": {
      "name": "python3",
      "display_name": "Python 3"
    },
    "language_info": {
      "name": "python"
    }
  },
  "cells": [
    {
      "cell_type": "markdown",
      "metadata": {
        "id": "view-in-github",
        "colab_type": "text"
      },
      "source": [
        "<a href=\"https://colab.research.google.com/github/NeerajaJayanthy/NLP-Regular-Expressions-/blob/main/regular_expression.ipynb\" target=\"_parent\"><img src=\"https://colab.research.google.com/assets/colab-badge.svg\" alt=\"Open In Colab\"/></a>"
      ]
    },
    {
      "cell_type": "code",
      "execution_count": null,
      "metadata": {
        "colab": {
          "base_uri": "https://localhost:8080/"
        },
        "id": "C2VFIZORzmoS",
        "outputId": "ab8f34b6-cdb8-407f-b218-0e1c19bb3886"
      },
      "outputs": [
        {
          "output_type": "stream",
          "name": "stdout",
          "text": [
            "['235656578', '42', '325', '4', '4']\n"
          ]
        }
      ],
      "source": [
        "import re\n",
        "text=\"adsrfsdtgdfgdfgdgegte235656578fsdgdgggsdg42s325g4s4gtsg\"\n",
        "digits = re.findall(r'\\d+', text)\n",
        "print(digits)"
      ]
    },
    {
      "cell_type": "code",
      "source": [
        "import re\n",
        "text=input(\"enter a text\")\n",
        "digits= re.findall(r'\\d+',text)\n",
        "\n",
        "if digits:\n",
        "    print(digits)\n",
        "else:\n",
        "   print(\"not found\")"
      ],
      "metadata": {
        "id": "YL7708di1JsD",
        "colab": {
          "base_uri": "https://localhost:8080/"
        },
        "outputId": "d4e6d9a3-3d42-44a2-f170-9caba5a4227c"
      },
      "execution_count": null,
      "outputs": [
        {
          "output_type": "stream",
          "name": "stdout",
          "text": [
            "enter a textgw3j24j2\n",
            "['3', '24', '2']\n"
          ]
        }
      ]
    },
    {
      "cell_type": "code",
      "source": [
        "import re\n",
        "\n",
        "text = input(\"Enter a text: \")\n",
        "match = re.search(r'^\\d+', text)\n",
        "if match:  # Check if a match was found\n",
        "    print(match.group())  # Print the matched digits\n",
        "else:\n",
        "    print(\"Not found\")\n",
        "\n"
      ],
      "metadata": {
        "colab": {
          "base_uri": "https://localhost:8080/"
        },
        "id": "ePblMdgV2sEh",
        "outputId": "bff6c068-33ce-44ad-fa71-d73685562b06"
      },
      "execution_count": null,
      "outputs": [
        {
          "output_type": "stream",
          "name": "stdout",
          "text": [
            "Enter a text: h1f3h445hj6546\n",
            "Not found\n"
          ]
        }
      ]
    },
    {
      "cell_type": "code",
      "source": [
        "import re\n",
        "text=\"the best cricketer is sachin\"\n",
        "x=re.search(\"^the.*sachin$\",text)\n",
        "print(x)\n",
        "if(x):\n",
        "  print(\"yes\")\n",
        "else:\n",
        "  print(\"no\")"
      ],
      "metadata": {
        "colab": {
          "base_uri": "https://localhost:8080/"
        },
        "id": "xe8uKvJA5hxc",
        "outputId": "6eddd177-305a-49e4-d7a0-3ee95551a129"
      },
      "execution_count": null,
      "outputs": [
        {
          "output_type": "stream",
          "name": "stdout",
          "text": [
            "<re.Match object; span=(0, 28), match='the best cricketer is sachin'>\n",
            "yes\n"
          ]
        }
      ]
    },
    {
      "cell_type": "markdown",
      "source": [
        "validating phone numbers\n",
        "text documet validation from text"
      ],
      "metadata": {
        "id": "VTcOdHCg6hE8"
      }
    }
  ]
}